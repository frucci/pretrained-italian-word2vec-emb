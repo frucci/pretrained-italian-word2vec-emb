{
 "cells": [
  {
   "cell_type": "code",
   "execution_count": 1,
   "metadata": {},
   "outputs": [
    {
     "name": "stderr",
     "output_type": "stream",
     "text": [
      "Using TensorFlow backend.\n"
     ]
    }
   ],
   "source": [
    "import pandas as pd\n",
    "\n",
    "from gensim.models import KeyedVectors\n",
    "from sklearn.cluster import KMeans"
   ]
  },
  {
   "cell_type": "code",
   "execution_count": 2,
   "metadata": {
    "collapsed": true
   },
   "outputs": [],
   "source": [
    "words = [\"due\",\"tre\",\"quattro\",\"cinque\",\"dodici\",\n",
    "         \"desktop\",\"tastiera\",\"monitor\",\"mouse\",\n",
    "         \"pasta\",\"carbonara\",\"amatriciana\",\"gnocchi\",\n",
    "         \"blu\",\"giallo\",\"rosso\",\"viola\",\"bianco\",\"marrone\",\n",
    "         \"audi\",\"bmw\",\"fiat\",\"ferrari\"]"
   ]
  },
  {
   "cell_type": "code",
   "execution_count": 3,
   "metadata": {},
   "outputs": [
    {
     "name": "stdout",
     "output_type": "stream",
     "text": [
      "CPU times: user 1.17 s, sys: 100 ms, total: 1.27 s\n",
      "Wall time: 1.27 s\n"
     ]
    }
   ],
   "source": [
    "%%time\n",
    "model2vec = KeyedVectors.load_word2vec_format('../models/pretrained-italian-word2vec-emb-300.bin', binary = True)"
   ]
  },
  {
   "cell_type": "code",
   "execution_count": 4,
   "metadata": {},
   "outputs": [
    {
     "data": {
      "text/html": [
       "<div>\n",
       "<table border=\"1\" class=\"dataframe\">\n",
       "  <thead>\n",
       "    <tr style=\"text-align: right;\">\n",
       "      <th></th>\n",
       "      <th>w2v_0</th>\n",
       "      <th>w2v_1</th>\n",
       "      <th>w2v_2</th>\n",
       "      <th>w2v_3</th>\n",
       "      <th>w2v_4</th>\n",
       "      <th>w2v_5</th>\n",
       "      <th>w2v_6</th>\n",
       "      <th>w2v_7</th>\n",
       "      <th>w2v_8</th>\n",
       "      <th>w2v_9</th>\n",
       "      <th>...</th>\n",
       "      <th>w2v_290</th>\n",
       "      <th>w2v_291</th>\n",
       "      <th>w2v_292</th>\n",
       "      <th>w2v_293</th>\n",
       "      <th>w2v_294</th>\n",
       "      <th>w2v_295</th>\n",
       "      <th>w2v_296</th>\n",
       "      <th>w2v_297</th>\n",
       "      <th>w2v_298</th>\n",
       "      <th>w2v_299</th>\n",
       "    </tr>\n",
       "  </thead>\n",
       "  <tbody>\n",
       "    <tr>\n",
       "      <th>due</th>\n",
       "      <td>0.555769</td>\n",
       "      <td>1.686632</td>\n",
       "      <td>-1.866060</td>\n",
       "      <td>-3.958707</td>\n",
       "      <td>0.590774</td>\n",
       "      <td>4.121863</td>\n",
       "      <td>1.022783</td>\n",
       "      <td>-2.688096</td>\n",
       "      <td>-0.751874</td>\n",
       "      <td>-1.639664</td>\n",
       "      <td>...</td>\n",
       "      <td>4.119868</td>\n",
       "      <td>1.140363</td>\n",
       "      <td>-1.442876</td>\n",
       "      <td>-2.141457</td>\n",
       "      <td>-0.141403</td>\n",
       "      <td>2.332466</td>\n",
       "      <td>3.567816</td>\n",
       "      <td>2.171387</td>\n",
       "      <td>-1.016300</td>\n",
       "      <td>-1.822542</td>\n",
       "    </tr>\n",
       "    <tr>\n",
       "      <th>tre</th>\n",
       "      <td>-1.420482</td>\n",
       "      <td>1.352044</td>\n",
       "      <td>-2.101262</td>\n",
       "      <td>-2.012715</td>\n",
       "      <td>-0.586303</td>\n",
       "      <td>1.684928</td>\n",
       "      <td>1.124802</td>\n",
       "      <td>-2.627768</td>\n",
       "      <td>0.465259</td>\n",
       "      <td>0.090341</td>\n",
       "      <td>...</td>\n",
       "      <td>5.492806</td>\n",
       "      <td>0.501729</td>\n",
       "      <td>-1.933056</td>\n",
       "      <td>-0.928997</td>\n",
       "      <td>-1.716985</td>\n",
       "      <td>-0.383326</td>\n",
       "      <td>2.100746</td>\n",
       "      <td>1.193316</td>\n",
       "      <td>-1.265705</td>\n",
       "      <td>-0.508022</td>\n",
       "    </tr>\n",
       "    <tr>\n",
       "      <th>quattro</th>\n",
       "      <td>-1.386980</td>\n",
       "      <td>1.953824</td>\n",
       "      <td>-1.973079</td>\n",
       "      <td>-4.368943</td>\n",
       "      <td>0.803434</td>\n",
       "      <td>0.464723</td>\n",
       "      <td>2.002244</td>\n",
       "      <td>-4.392963</td>\n",
       "      <td>0.392094</td>\n",
       "      <td>0.084445</td>\n",
       "      <td>...</td>\n",
       "      <td>5.028185</td>\n",
       "      <td>0.159005</td>\n",
       "      <td>-1.625921</td>\n",
       "      <td>-0.299295</td>\n",
       "      <td>-0.675820</td>\n",
       "      <td>1.931018</td>\n",
       "      <td>3.957309</td>\n",
       "      <td>1.453263</td>\n",
       "      <td>0.727118</td>\n",
       "      <td>0.910462</td>\n",
       "    </tr>\n",
       "    <tr>\n",
       "      <th>cinque</th>\n",
       "      <td>-2.237540</td>\n",
       "      <td>2.576279</td>\n",
       "      <td>-1.973438</td>\n",
       "      <td>-1.541816</td>\n",
       "      <td>-0.478855</td>\n",
       "      <td>-0.623010</td>\n",
       "      <td>0.051838</td>\n",
       "      <td>-1.374938</td>\n",
       "      <td>1.613915</td>\n",
       "      <td>1.639891</td>\n",
       "      <td>...</td>\n",
       "      <td>4.882992</td>\n",
       "      <td>-0.290083</td>\n",
       "      <td>-0.026573</td>\n",
       "      <td>-0.520104</td>\n",
       "      <td>-0.498987</td>\n",
       "      <td>2.018736</td>\n",
       "      <td>1.797003</td>\n",
       "      <td>3.898169</td>\n",
       "      <td>0.518901</td>\n",
       "      <td>1.920064</td>\n",
       "    </tr>\n",
       "    <tr>\n",
       "      <th>dodici</th>\n",
       "      <td>-0.134981</td>\n",
       "      <td>-0.140921</td>\n",
       "      <td>-2.078631</td>\n",
       "      <td>-1.432005</td>\n",
       "      <td>0.272532</td>\n",
       "      <td>-0.198562</td>\n",
       "      <td>0.663711</td>\n",
       "      <td>-0.176864</td>\n",
       "      <td>1.434186</td>\n",
       "      <td>2.406414</td>\n",
       "      <td>...</td>\n",
       "      <td>1.435411</td>\n",
       "      <td>-0.864818</td>\n",
       "      <td>1.027197</td>\n",
       "      <td>-0.796814</td>\n",
       "      <td>-1.522014</td>\n",
       "      <td>0.282693</td>\n",
       "      <td>0.391300</td>\n",
       "      <td>0.832126</td>\n",
       "      <td>0.202488</td>\n",
       "      <td>0.132145</td>\n",
       "    </tr>\n",
       "  </tbody>\n",
       "</table>\n",
       "<p>5 rows × 300 columns</p>\n",
       "</div>"
      ],
      "text/plain": [
       "            w2v_0     w2v_1     w2v_2     w2v_3     w2v_4     w2v_5     w2v_6  \\\n",
       "due      0.555769  1.686632 -1.866060 -3.958707  0.590774  4.121863  1.022783   \n",
       "tre     -1.420482  1.352044 -2.101262 -2.012715 -0.586303  1.684928  1.124802   \n",
       "quattro -1.386980  1.953824 -1.973079 -4.368943  0.803434  0.464723  2.002244   \n",
       "cinque  -2.237540  2.576279 -1.973438 -1.541816 -0.478855 -0.623010  0.051838   \n",
       "dodici  -0.134981 -0.140921 -2.078631 -1.432005  0.272532 -0.198562  0.663711   \n",
       "\n",
       "            w2v_7     w2v_8     w2v_9    ...      w2v_290   w2v_291   w2v_292  \\\n",
       "due     -2.688096 -0.751874 -1.639664    ...     4.119868  1.140363 -1.442876   \n",
       "tre     -2.627768  0.465259  0.090341    ...     5.492806  0.501729 -1.933056   \n",
       "quattro -4.392963  0.392094  0.084445    ...     5.028185  0.159005 -1.625921   \n",
       "cinque  -1.374938  1.613915  1.639891    ...     4.882992 -0.290083 -0.026573   \n",
       "dodici  -0.176864  1.434186  2.406414    ...     1.435411 -0.864818  1.027197   \n",
       "\n",
       "          w2v_293   w2v_294   w2v_295   w2v_296   w2v_297   w2v_298   w2v_299  \n",
       "due     -2.141457 -0.141403  2.332466  3.567816  2.171387 -1.016300 -1.822542  \n",
       "tre     -0.928997 -1.716985 -0.383326  2.100746  1.193316 -1.265705 -0.508022  \n",
       "quattro -0.299295 -0.675820  1.931018  3.957309  1.453263  0.727118  0.910462  \n",
       "cinque  -0.520104 -0.498987  2.018736  1.797003  3.898169  0.518901  1.920064  \n",
       "dodici  -0.796814 -1.522014  0.282693  0.391300  0.832126  0.202488  0.132145  \n",
       "\n",
       "[5 rows x 300 columns]"
      ]
     },
     "execution_count": 4,
     "metadata": {},
     "output_type": "execute_result"
    }
   ],
   "source": [
    "data_emb = pd.DataFrame(0, index=words, columns = ['w2v_'+str(i) for i in range(0,300)])\n",
    "for w in words:\n",
    "    data_emb.loc[w] =  model2vec.wv.word_vec(w)\n",
    "    \n",
    "data_emb.head()"
   ]
  },
  {
   "cell_type": "code",
   "execution_count": 5,
   "metadata": {},
   "outputs": [
    {
     "data": {
      "text/plain": [
       "KMeans(algorithm='auto', copy_x=True, init='k-means++', max_iter=300,\n",
       "    n_clusters=5, n_init=10, n_jobs=1, precompute_distances='auto',\n",
       "    random_state=None, tol=0.0001, verbose=0)"
      ]
     },
     "execution_count": 5,
     "metadata": {},
     "output_type": "execute_result"
    }
   ],
   "source": [
    "kmeans = KMeans(init='k-means++', n_clusters=5, n_init=10)\n",
    "kmeans.fit(data_emb)"
   ]
  },
  {
   "cell_type": "code",
   "execution_count": 6,
   "metadata": {},
   "outputs": [
    {
     "name": "stdout",
     "output_type": "stream",
     "text": [
      "Showing cluster number 0\n",
      "\n",
      "    label     word\n",
      "19      0     audi\n",
      "20      0      bmw\n",
      "21      0     fiat\n",
      "22      0  ferrari\n",
      "\n",
      "Showing cluster number 1\n",
      "\n",
      "    label     word\n",
      "13      1      blu\n",
      "14      1   giallo\n",
      "15      1    rosso\n",
      "16      1    viola\n",
      "17      1   bianco\n",
      "18      1  marrone\n",
      "\n",
      "Showing cluster number 2\n",
      "\n",
      "   label     word\n",
      "0      2      due\n",
      "1      2      tre\n",
      "2      2  quattro\n",
      "3      2   cinque\n",
      "4      2   dodici\n",
      "\n",
      "Showing cluster number 3\n",
      "\n",
      "   label      word\n",
      "5      3   desktop\n",
      "6      3  tastiera\n",
      "7      3   monitor\n",
      "8      3     mouse\n",
      "\n",
      "Showing cluster number 4\n",
      "\n",
      "    label         word\n",
      "9       4        pasta\n",
      "10      4    carbonara\n",
      "11      4  amatriciana\n",
      "12      4      gnocchi\n",
      "\n"
     ]
    }
   ],
   "source": [
    "show = pd.concat([pd.Series(kmeans.labels_, name=\"label\"), pd.Series(data_emb.index, name=\"word\")], axis=1)\n",
    "\n",
    "for l in set(show.label):\n",
    "    print(\"Showing cluster number {}\".format(l), end=\"\\n\\n\")\n",
    "    print(show[show.label == l], end=\"\\n\\n\")"
   ]
  }
 ],
 "metadata": {
  "kernelspec": {
   "display_name": "Python 3",
   "language": "python",
   "name": "python3"
  },
  "language_info": {
   "codemirror_mode": {
    "name": "ipython",
    "version": 3
   },
   "file_extension": ".py",
   "mimetype": "text/x-python",
   "name": "python",
   "nbconvert_exporter": "python",
   "pygments_lexer": "ipython3",
   "version": "3.5.2"
  }
 },
 "nbformat": 4,
 "nbformat_minor": 2
}
