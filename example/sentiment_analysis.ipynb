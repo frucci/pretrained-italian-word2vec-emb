{
 "cells": [
  {
   "cell_type": "code",
   "execution_count": 1,
   "metadata": {},
   "outputs": [
    {
     "name": "stderr",
     "output_type": "stream",
     "text": [
      "Using TensorFlow backend.\n"
     ]
    }
   ],
   "source": [
    "# Data Available here:\n",
    "# https://betsentiment.com/resources/dataset/italian-tweets/\n",
    "\n",
    "# utilities\n",
    "import pandas as pd\n",
    "import numpy as np\n",
    "import re\n",
    "import warnings\n",
    "warnings.filterwarnings(\"ignore\")\n",
    "\n",
    "# viz\n",
    "import matplotlib.pyplot as plt\n",
    "from sklearn.metrics import confusion_matrix\n",
    "from sklearn.utils.multiclass import unique_labels\n",
    "\n",
    "# model\n",
    "from gensim.models import KeyedVectors\n",
    "from sklearn.model_selection import train_test_split\n",
    "\n",
    "from keras.models import Model\n",
    "from keras.layers import Dense, Activation, Input, BatchNormalization, Embedding, GRU\n",
    "from keras.optimizers import SGD\n",
    "from keras.preprocessing.text import Tokenizer\n",
    "from keras.preprocessing.sequence import pad_sequences"
   ]
  },
  {
   "cell_type": "code",
   "execution_count": 2,
   "metadata": {},
   "outputs": [
    {
     "name": "stdout",
     "output_type": "stream",
     "text": [
      "CPU times: user 1.3 s, sys: 136 ms, total: 1.44 s\n",
      "Wall time: 1.98 s\n"
     ]
    }
   ],
   "source": [
    "%%time\n",
    "model2vec = KeyedVectors.load_word2vec_format('../models/pretrained-italian-word2vec-emb-300.bin', binary = True)"
   ]
  },
  {
   "cell_type": "code",
   "execution_count": 3,
   "metadata": {
    "collapsed": true
   },
   "outputs": [],
   "source": [
    "# picked up from https://scikit-learn.org/stable/auto_examples/model_selection/plot_confusion_matrix.html\n",
    "def plot_confusion_matrix(y_true, y_pred, classes,\n",
    "                          normalize=False,\n",
    "                          title=None,\n",
    "                          cmap=plt.cm.Blues):\n",
    "    \"\"\"\n",
    "    This function prints and plots the confusion matrix.\n",
    "    Normalization can be applied by setting `normalize=True`.\n",
    "    \"\"\"\n",
    "    if not title:\n",
    "        if normalize:\n",
    "            title = 'Normalized confusion matrix'\n",
    "        else:\n",
    "            title = 'Confusion matrix, without normalization'\n",
    "\n",
    "    # Compute confusion matrix\n",
    "    cm = confusion_matrix(y_true, y_pred)\n",
    "    # Only use the labels that appear in the data\n",
    "    classes = classes[unique_labels(y_true, y_pred)]\n",
    "    if normalize:\n",
    "        cm = cm.astype('float') / cm.sum(axis=1)[:, np.newaxis]\n",
    "        print(\"Normalized confusion matrix\")\n",
    "    else:\n",
    "        print('Confusion matrix, without normalization')\n",
    "\n",
    "    print(cm)\n",
    "\n",
    "    fig, ax = plt.subplots()\n",
    "    im = ax.imshow(cm, interpolation='nearest', cmap=cmap)\n",
    "    ax.figure.colorbar(im, ax=ax)\n",
    "    # We want to show all ticks...\n",
    "    ax.set(xticks=np.arange(cm.shape[1]),\n",
    "           yticks=np.arange(cm.shape[0]),\n",
    "           # ... and label them with the respective list entries\n",
    "           xticklabels=classes, yticklabels=classes,\n",
    "           title=title,\n",
    "           ylabel='True label',\n",
    "           xlabel='Predicted label')\n",
    "\n",
    "    # Rotate the tick labels and set their alignment.\n",
    "    plt.setp(ax.get_xticklabels(), rotation=45, ha=\"right\",\n",
    "             rotation_mode=\"anchor\")\n",
    "\n",
    "    # Loop over data dimensions and create text annotations.\n",
    "    fmt = '.2f' if normalize else 'd'\n",
    "    thresh = cm.max() / 2.\n",
    "    for i in range(cm.shape[0]):\n",
    "        for j in range(cm.shape[1]):\n",
    "            ax.text(j, i, format(cm[i, j], fmt),\n",
    "                    ha=\"center\", va=\"center\",\n",
    "                    color=\"white\" if cm[i, j] > thresh else \"black\")\n",
    "    fig.tight_layout()\n",
    "    return ax"
   ]
  },
  {
   "cell_type": "code",
   "execution_count": 4,
   "metadata": {
    "collapsed": true
   },
   "outputs": [],
   "source": [
    "def easy_cleaning(sentence):\n",
    "    sentence = \" \".join([word for word in sentence.split() if not any(x in word for x in [\"@\",\"#\",\"http\",\".ly\"])])\n",
    "    sentence = re.sub(r\"[^a-zA-Z\\à\\è\\é\\ì\\ò\\ù ]+\", \" \", sentence)\n",
    "    sentence = re.sub(r\" +\",\" \",sentence).strip().lower()\n",
    "    return sentence"
   ]
  },
  {
   "cell_type": "code",
   "execution_count": 5,
   "metadata": {},
   "outputs": [
    {
     "name": "stdout",
     "output_type": "stream",
     "text": [
      "Data shape is equal to: (165815, 6)\n",
      "Data - P/N labeled - shape is equal to: (30094, 2)\n",
      "Data - unique rows (after cleaning) - shape is equal to: (28760, 2)\n"
     ]
    }
   ],
   "source": [
    "data = pd.read_csv(\"betsentiment-IT-tweets-sentiment-players.csv\", encoding=\"latin1\")\n",
    "print(\"Data shape is equal to:\", data.shape)\n",
    "data = data[[\"tweet_text\",\"sentiment\"]].copy()\n",
    "data = data[data[\"sentiment\"].isin([\"POSITIVE\",\"NEGATIVE\"])].copy()\n",
    "print(\"Data - P/N labeled - shape is equal to:\", data.shape)\n",
    "data[\"tweet_text\"] = data[\"tweet_text\"].apply(func = lambda x: easy_cleaning(x))\n",
    "data.drop_duplicates(inplace=True)\n",
    "print(\"Data - unique rows (after cleaning) - shape is equal to:\", data.shape)"
   ]
  },
  {
   "cell_type": "code",
   "execution_count": 6,
   "metadata": {
    "collapsed": true
   },
   "outputs": [],
   "source": [
    "n_dim = 300\n",
    "input_len = 30"
   ]
  },
  {
   "cell_type": "code",
   "execution_count": 7,
   "metadata": {},
   "outputs": [
    {
     "name": "stdout",
     "output_type": "stream",
     "text": [
      "Found 27054 unique tokens\n",
      "Shape of data: (28760, 30)\n",
      "Shape of label: (28760,)\n"
     ]
    }
   ],
   "source": [
    "texts = list(data.tweet_text.values)\n",
    "\n",
    "tokenizer = Tokenizer()\n",
    "tokenizer.fit_on_texts(texts)\n",
    "\n",
    "sequences = tokenizer.texts_to_sequences(texts)\n",
    "\n",
    "word_index = tokenizer.word_index\n",
    "print('Found', len(word_index), 'unique tokens')\n",
    "\n",
    "datar = pad_sequences(sequences, maxlen=input_len)\n",
    "label = np.array((data.sentiment == \"POSITIVE\").astype(int).values)\n",
    "print('Shape of data:', datar.shape)\n",
    "print('Shape of label:', label.shape)"
   ]
  },
  {
   "cell_type": "code",
   "execution_count": 8,
   "metadata": {},
   "outputs": [],
   "source": [
    "nb_words = len(word_index)+1\n",
    "\n",
    "embedding_matrix = np.zeros((nb_words, n_dim))\n",
    "for word, i in word_index.items():\n",
    "    if word in model2vec.wv.vocab:\n",
    "        embedding_matrix[i] = model2vec.wv[word]"
   ]
  },
  {
   "cell_type": "code",
   "execution_count": 9,
   "metadata": {
    "collapsed": true
   },
   "outputs": [],
   "source": [
    "X_train, X_valid, y_train, y_valid = train_test_split(datar, label, test_size=.2)"
   ]
  },
  {
   "cell_type": "code",
   "execution_count": 10,
   "metadata": {},
   "outputs": [
    {
     "name": "stdout",
     "output_type": "stream",
     "text": [
      "_________________________________________________________________\n",
      "Layer (type)                 Output Shape              Param #   \n",
      "=================================================================\n",
      "input_1 (InputLayer)         (None, 30)                0         \n",
      "_________________________________________________________________\n",
      "embedding_1 (Embedding)      (None, 30, 300)           8116500   \n",
      "_________________________________________________________________\n",
      "gru_1 (GRU)                  (None, 128)               164736    \n",
      "_________________________________________________________________\n",
      "dense_1 (Dense)              (None, 128)               16512     \n",
      "_________________________________________________________________\n",
      "activation_1 (Activation)    (None, 128)               0         \n",
      "_________________________________________________________________\n",
      "dense_2 (Dense)              (None, 64)                8256      \n",
      "_________________________________________________________________\n",
      "activation_2 (Activation)    (None, 64)                0         \n",
      "_________________________________________________________________\n",
      "dense_3 (Dense)              (None, 1)                 65        \n",
      "_________________________________________________________________\n",
      "activation_3 (Activation)    (None, 1)                 0         \n",
      "=================================================================\n",
      "Total params: 8,306,069\n",
      "Trainable params: 189,569\n",
      "Non-trainable params: 8,116,500\n",
      "_________________________________________________________________\n",
      "None\n",
      "\n",
      "Train on 23008 samples, validate on 5752 samples\n",
      "Epoch 1/3\n",
      "23008/23008 [==============================] - 29s - loss: 0.3519 - acc: 0.8398 - val_loss: 0.2858 - val_acc: 0.8719\n",
      "Epoch 2/3\n",
      "23008/23008 [==============================] - 29s - loss: 0.2435 - acc: 0.8941 - val_loss: 0.2522 - val_acc: 0.8910\n",
      "Epoch 3/3\n",
      "23008/23008 [==============================] - 29s - loss: 0.1898 - acc: 0.9195 - val_loss: 0.2649 - val_acc: 0.8873\n"
     ]
    },
    {
     "data": {
      "text/plain": [
       "<keras.callbacks.History at 0x7f81e0116f98>"
      ]
     },
     "execution_count": 10,
     "metadata": {},
     "output_type": "execute_result"
    }
   ],
   "source": [
    "model_input = Input(shape=(input_len,))\n",
    "\n",
    "model = Embedding(nb_words, n_dim, weights=[embedding_matrix],input_length=input_len,\n",
    "        trainable=False)(model_input)\n",
    "\n",
    "model = GRU(128)(model) \n",
    "\n",
    "model = Dense(128)(model)\n",
    "model = Activation('relu')(model)\n",
    "\n",
    "model = Dense(64)(model)\n",
    "model = Activation('relu')(model)\n",
    "\n",
    "model = Dense(1)(model)\n",
    "out = Activation('sigmoid')(model)\n",
    "\n",
    "opt = SGD(lr = 0.1, momentum = 0.9, nesterov=True)\n",
    "\n",
    "model = Model(inputs=[model_input], outputs=out)\n",
    "\n",
    "model.compile(loss='binary_crossentropy',\n",
    "              optimizer=opt,\n",
    "              metrics=['accuracy'])\n",
    "\n",
    "print(model.summary(), end=\"\\n\\n\")\n",
    "\n",
    "model.fit(X_train, y_train,\n",
    "          batch_size=2**7,\n",
    "          epochs=3,\n",
    "          verbose=1,\n",
    "          validation_data=(X_valid, y_valid))"
   ]
  },
  {
   "cell_type": "code",
   "execution_count": 11,
   "metadata": {
    "collapsed": true
   },
   "outputs": [],
   "source": [
    "y_pred = (model.predict(X_valid)>.5).astype(int)"
   ]
  },
  {
   "cell_type": "code",
   "execution_count": 13,
   "metadata": {},
   "outputs": [
    {
     "name": "stdout",
     "output_type": "stream",
     "text": [
      "Confusion matrix, without normalization\n",
      "[[ 879  393]\n",
      " [ 255 4225]]\n"
     ]
    },
    {
     "data": {
      "image/png": "[encoded data removed]",
      "text/plain": [
       "<matplotlib.figure.Figure at 0x7f81dfe084a8>"
      ]
     },
     "metadata": {},
     "output_type": "display_data"
    }
   ],
   "source": [
    "plot_confusion_matrix(y_valid.reshape(-1,1), y_pred, classes=np.array([0,1]))\n",
    "plt.show()"
   ]
  }
 ],
 "metadata": {
  "kernelspec": {
   "display_name": "Python 3",
   "language": "python",
   "name": "python3"
  },
  "language_info": {
   "codemirror_mode": {
    "name": "ipython",
    "version": 3
   },
   "file_extension": ".py",
   "mimetype": "text/x-python",
   "name": "python",
   "nbconvert_exporter": "python",
   "pygments_lexer": "ipython3",
   "version": "3.5.2"
  }
 },
 "nbformat": 4,
 "nbformat_minor": 2
}
